{
 "cells": [
  {
   "cell_type": "markdown",
   "metadata": {},
   "source": [
    "# [NTDS'18] milestone 2: network models\n",
    "[ntds'18]: https://github.com/mdeff/ntds_2018\n",
    "\n",
    "[Hermina Petric Maretic](https://people.epfl.ch/hermina.petricmaretic), [EPFL LTS4](https://lts4.epfl.ch)"
   ]
  },
  {
   "cell_type": "markdown",
   "metadata": {},
   "source": [
    "## Students\n",
    "\n",
    "* Team: `34`\n",
    "* Students: `<Valentin Morel, Xavier Sieber, Cédric Schumacher, Charles-Théophile Coen>`\n",
    "* Dataset: `<Terrorist attack>`"
   ]
  },
  {
   "cell_type": "markdown",
   "metadata": {},
   "source": [
    "## Rules\n",
    "\n",
    "* Milestones have to be completed by teams. No collaboration between teams is allowed.\n",
    "* Textual answers shall be short. Typically one to two sentences.\n",
    "* Code has to be clean.\n",
    "* In the first part, you cannot import any other library than we imported. In the second part, you are allowed to import any library you want.\n",
    "* When submitting, the notebook is executed and the results are stored. I.e., if you open the notebook again it should show numerical results and plots. We won't be able to execute your notebooks.\n",
    "* The notebook is re-executed from a blank state before submission. That is to be sure it is reproducible. You can click \"Kernel\" then \"Restart & Run All\" in Jupyter."
   ]
  },
  {
   "cell_type": "markdown",
   "metadata": {},
   "source": [
    "## Objective\n",
    "\n",
    "The purpose of this milestone is to explore various random network models, analyse their properties and compare them to your network. In the first part of the milestone you will implement two random graph models and try to fit them to your network. In this part you are not allowed to use any additional package. In the second part of the milestone you will choose a third random graph model that you think shares some properties with your network. You will be allowed to use additional packages to construct this network, but you must explain your network choice. Finally, make your code as clean as possible, and keep your textual answers short."
   ]
  },
  {
   "cell_type": "markdown",
   "metadata": {},
   "source": [
    "## Part 0\n",
    "\n",
    "Import the adjacency matrix of your graph that you constructed in milestone 1, as well as the number of nodes and edges of your network."
   ]
  },
  {
   "cell_type": "code",
   "execution_count": 111,
   "metadata": {},
   "outputs": [],
   "source": [
    "adjacency = np.load('Adjacency1.npy') # the adjacency matrix\n",
    "n_nodes = len(adjacency) # the number of nodes in the network\n",
    "def number_edges(adjacency_matrix):\n",
    "    n = 0\n",
    "    length = len(adjacency_matrix)\n",
    "    \n",
    "    for i in range(0,length):\n",
    "        for j in range(i,length):\n",
    "            n = n + adjacency_matrix[i,j]\n",
    "    return n\n",
    "            \n",
    "n_edges = number_edges(adjacency) # the number of edges in the network"
   ]
  },
  {
   "cell_type": "code",
   "execution_count": 112,
   "metadata": {},
   "outputs": [
    {
     "data": {
      "text/plain": [
       "<matplotlib.image.AxesImage at 0x1f67b4546a0>"
      ]
     },
     "execution_count": 112,
     "metadata": {},
     "output_type": "execute_result"
    },
    {
     "data": {
      "image/png": "[encoded data removed]",
      "text/plain": [
       "<Figure size 432x288 with 1 Axes>"
      ]
     },
     "metadata": {
      "needs_background": "light"
     },
     "output_type": "display_data"
    }
   ],
   "source": [
    "plt.spy(adjacency)"
   ]
  },
  {
   "cell_type": "markdown",
   "metadata": {},
   "source": [
    "## Part 1\n",
    "\n",
    "**For the computation of this part of the milestone you are only allowed to use the packages that have been imported in the cell below.**"
   ]
  },
  {
   "cell_type": "code",
   "execution_count": 2,
   "metadata": {},
   "outputs": [],
   "source": [
    "%matplotlib inline\n",
    "\n",
    "import random\n",
    "\n",
    "import numpy as np\n",
    "import pandas as pd\n",
    "import matplotlib.pyplot as plt\n",
    "import scipy"
   ]
  },
  {
   "cell_type": "markdown",
   "metadata": {},
   "source": [
    "### Question 1\n",
    "\n",
    "Create a function that constructs an Erdős–Rényi graph."
   ]
  },
  {
   "cell_type": "code",
   "execution_count": 70,
   "metadata": {},
   "outputs": [],
   "source": [
    "def erdos_renyi(n, p, seed=None):\n",
    "    \"\"\"Create an instance from the Erdos-Renyi graph model.\n",
    "    \n",
    "    Parameters\n",
    "    ----------\n",
    "    n: int\n",
    "        Size of the graph.\n",
    "    p: float\n",
    "        Edge probability. A number between 0 and 1.\n",
    "    seed: int (optional)\n",
    "        Seed for the random number generator. To get reproducible results.\n",
    "    \n",
    "    Returns\n",
    "    -------\n",
    "    adjacency\n",
    "        The adjacency matrix of a graph.\n",
    "    \"\"\"\n",
    "    \n",
    "    # Your code here.\n",
    "    adjacency = np.zeros((n,n))\n",
    "    random.seed(seed)\n",
    "    \n",
    "    for i in range(0,n):\n",
    "        for j in range(i+1,n):\n",
    "            if i!=j:\n",
    "                proba = random.random()\n",
    "                #print(proba)\n",
    "                if proba <= p: #check if the random probability generated is <= p; if so, put the matrix element to 1\n",
    "                    adjacency[i,j] = 1\n",
    "                    adjacency[j,i] = 1\n",
    "\n",
    "    return adjacency"
   ]
  },
  {
   "cell_type": "code",
   "execution_count": 71,
   "metadata": {},
   "outputs": [
    {
     "data": {
      "text/plain": [
       "<matplotlib.lines.Line2D at 0x1f67b1eab38>"
      ]
     },
     "execution_count": 71,
     "metadata": {},
     "output_type": "execute_result"
    },
    {
     "data": {
      "image/png": "[encoded data removed]",
      "text/plain": [
       "<Figure size 432x288 with 1 Axes>"
      ]
     },
     "metadata": {
      "needs_background": "light"
     },
     "output_type": "display_data"
    }
   ],
   "source": [
    "import networkx as nx\n",
    "er = nx.erdos_renyi_graph(5,0.6, 9765)\n",
    "adj_er = nx.adj_matrix(er)\n",
    "plt.spy(adj_er)"
   ]
  },
  {
   "cell_type": "code",
   "execution_count": null,
   "metadata": {},
   "outputs": [],
   "source": []
  },
  {
   "cell_type": "markdown",
   "metadata": {},
   "source": [
    "##### **Question**\n",
    "\n",
    "do we have to restrict the self loop? can node_i be linked to node_i?"
   ]
  },
  {
   "cell_type": "code",
   "execution_count": 72,
   "metadata": {
    "scrolled": true
   },
   "outputs": [
    {
     "data": {
      "image/png": "[encoded data removed]",
      "text/plain": [
       "<Figure size 432x288 with 1 Axes>"
      ]
     },
     "metadata": {
      "needs_background": "light"
     },
     "output_type": "display_data"
    }
   ],
   "source": [
    "er = erdos_renyi(5, 0.6, 9765)\n",
    "plt.spy(er)\n",
    "plt.title('Erdos-Renyi (5, 0.6)');"
   ]
  },
  {
   "cell_type": "code",
   "execution_count": 69,
   "metadata": {
    "scrolled": true
   },
   "outputs": [
    {
     "data": {
      "image/png": "[encoded data removed]",
      "text/plain": [
       "<Figure size 432x288 with 1 Axes>"
      ]
     },
     "metadata": {
      "needs_background": "light"
     },
     "output_type": "display_data"
    }
   ],
   "source": [
    "er = erdos_renyi(10, 0.4, 7648)\n",
    "plt.spy(er)\n",
    "plt.title('Erdos-Renyi (10, 0.4)');"
   ]
  },
  {
   "cell_type": "markdown",
   "metadata": {},
   "source": [
    "### Question 2\n",
    "\n",
    "Use the function to create a random Erdos-Renyi graph. Choose the parameters such that number of nodes is the same as in your graph, and the number of edges similar. You don't need to set the random seed. Comment on your choice of parameters."
   ]
  },
  {
   "cell_type": "code",
   "execution_count": 7,
   "metadata": {},
   "outputs": [
    {
     "data": {
      "text/plain": [
       "Text(0.5, 1.05, 'Erdos-Renyi (N_nodes, P_edges)')"
      ]
     },
     "execution_count": 7,
     "metadata": {},
     "output_type": "execute_result"
    },
    {
     "data": {
      "image/png": "[encoded data removed]",
      "text/plain": [
       "<Figure size 432x288 with 1 Axes>"
      ]
     },
     "metadata": {},
     "output_type": "display_data"
    }
   ],
   "source": [
    "# Your code here.\n",
    "n = n_nodes\n",
    "total_edges_possible = n *(n-1)/2\n",
    "p = n_edges/total_edges_possible\n",
    "\n",
    "er_network = erdos_renyi(n, p, None)\n",
    "plt.spy(er_network)\n",
    "plt.title('Erdos-Renyi (N_nodes, P_edges)')"
   ]
  },
  {
   "cell_type": "markdown",
   "metadata": {},
   "source": [
    "### **Your answer here.**\n",
    "For the number of nodes (n), we simply took the number of nodes in our data set. For the probability (p), we divide the number of edges present in our data set (3172) by the total number of possible edges in order to have the mean probability for two nodes to be linked. Obviously, we won't have the exact same number of edges, but we are going to be close."
   ]
  },
  {
   "cell_type": "markdown",
   "metadata": {},
   "source": [
    "### Question 3\n",
    "\n",
    "Create a function that constructs a Barabási-Albert graph."
   ]
  },
  {
   "cell_type": "code",
   "execution_count": 13,
   "metadata": {},
   "outputs": [],
   "source": [
    "def barabasi_albert(n, m, m0=2, seed=None):\n",
    "    \"\"\"Create an instance from the Barabasi-Albert graph model.\n",
    "    \n",
    "    Parameters\n",
    "    ----------\n",
    "    n: int\n",
    "        Size of the graph.\n",
    "    m: int\n",
    "        Number of edges to attach from a new node to existing nodes.\n",
    "    seed: int (optional)\n",
    "        Seed for the random number generator. To get reproducible results.\n",
    "    \n",
    "    Returns\n",
    "    -------\n",
    "    adjacency\n",
    "        The adjacency matrix of a graph.\n",
    "    \"\"\"\n",
    "    \n",
    "    # Your code here.\n",
    "    adjacency = np.zeros((n,n))\n",
    "    random.seed(seed)\n",
    "    np.random.seed(seed)\n",
    "    \n",
    "    #creation of a random network with k = m0 nodes (but k >= 2) – each node needs at least one edge\n",
    "    if m0 < 2:\n",
    "        k = 2\n",
    "    else:\n",
    "        k = m0\n",
    "    \n",
    "    for i in range(0,k): #in this loop, for each initial node, a random edge is formed between one node of the inital network \n",
    "        numbers = [l for l in range(0,k) if l != i] #we exclude the scenario where the node links itself\n",
    "        random_node = random.choice(numbers)\n",
    "        adjacency[i,random_node] = 1\n",
    "        adjacency[random_node,i] = 1\n",
    "\n",
    "    #adding new nodes with each m edges – probabilty of linking between two nodes given by BA\n",
    "    for i in range(k,n):\n",
    "        proba = []\n",
    "        \n",
    "        k_nom = adjacency.sum(axis = 0)\n",
    "        k_tot = adjacency.sum(axis = None)\n",
    "        \n",
    "        for j in range(0,i):\n",
    "            k_j = k_nom[j]\n",
    "            proba = np.hstack((proba,k_j/k_tot)) #probability of linking between node_i and the existing nodes\n",
    "        \n",
    "        available_nodes = list(np.arange(0,i))\n",
    "        proba_list = list(proba)\n",
    "        linked_nodes = np.random.choice(available_nodes, m, replace = False, p = proba_list) #choice of node depending on probability\n",
    "\n",
    "        for k in range(0,len(linked_nodes)): #create a link between the node i to the m-chosen nodes\n",
    "            linked_node = linked_nodes[k]\n",
    "            adjacency[i,linked_node] = 1\n",
    "            adjacency[linked_node,i] = 1\n",
    "            \n",
    "    return adjacency"
   ]
  },
  {
   "cell_type": "code",
   "execution_count": 14,
   "metadata": {},
   "outputs": [
    {
     "data": {
      "image/png": "[encoded data removed]",
      "text/plain": [
       "<Figure size 432x288 with 1 Axes>"
      ]
     },
     "metadata": {
      "needs_background": "light"
     },
     "output_type": "display_data"
    }
   ],
   "source": [
    "ba = barabasi_albert(5, 1, 2, 9087)\n",
    "plt.spy(ba)\n",
    "plt.title('Barabasi-Albert (5, 1)');"
   ]
  },
  {
   "cell_type": "code",
   "execution_count": 102,
   "metadata": {},
   "outputs": [
    {
     "data": {
      "image/png": "[encoded data removed]",
      "text/plain": [
       "<Figure size 432x288 with 1 Axes>"
      ]
     },
     "metadata": {
      "needs_background": "light"
     },
     "output_type": "display_data"
    }
   ],
   "source": [
    "ba = barabasi_albert(3, 2, 2, 8708)\n",
    "plt.spy(ba)\n",
    "plt.title('Barabasi-Albert (10, 2)');"
   ]
  },
  {
   "cell_type": "code",
   "execution_count": 103,
   "metadata": {},
   "outputs": [
    {
     "data": {
      "text/plain": [
       "<matplotlib.lines.Line2D at 0x1f67b318a90>"
      ]
     },
     "execution_count": 103,
     "metadata": {},
     "output_type": "execute_result"
    },
    {
     "data": {
      "image/png": "[encoded data removed]",
      "text/plain": [
       "<Figure size 432x288 with 1 Axes>"
      ]
     },
     "metadata": {
      "needs_background": "light"
     },
     "output_type": "display_data"
    }
   ],
   "source": [
    "import networkx as nx\n",
    "ba = nx.barabasi_albert_graph(4, 2, 8708)\n",
    "adj_ba = nx.adj_matrix(ba)\n",
    "plt.spy(adj_ba)"
   ]
  },
  {
   "cell_type": "code",
   "execution_count": 83,
   "metadata": {},
   "outputs": [],
   "source": [
    "\n",
    "def barabasi_albert_graph(n, m, seed=None): \n",
    "    \"\"\"Returns a random graph according to the Barabási–Albert preferential \n",
    "    Attachment model. \n",
    "  \n",
    "    A graph of ``n`` nodes is grown by attaching new nodes each with ``m`` \n",
    "    Edges that are preferentially attached to existing nodes with high degree. \n",
    "  \n",
    "    Parameters \n",
    "    ----------\n",
    "    n : int\n",
    "        Number of nodes \n",
    "    m : int\n",
    "        Number of edges to attach from a new node to existing nodes \n",
    "    seed : int, optional \n",
    "        Seed for random number generator (default=None). \n",
    "  \n",
    "    Returns \n",
    "    -------\n",
    "    G : Graph \n",
    "  \n",
    "    Raises \n",
    "    ------\n",
    "    NetworkXError \n",
    "        If ``m`` does not satisfy ``1 <= m < n``. \"\"\"\n",
    "  \n",
    "      \n",
    "    if m < 1 or  m >=n: \n",
    "        raise nx.NetworkXError(\"Barabási–Albert network must have m >= 1\"\n",
    "                               \" and m < n, m = %d, n = %d\" % (m, n)) \n",
    "    if seed is not None: \n",
    "        random.seed(seed) \n",
    "  \n",
    "    # Add m initial nodes (m0 in barabasi-speak) \n",
    "    G=nx.empty_graph(2) \n",
    "    G.name=\"barabasi_albert_graph(%s,%s)\"%(n,m) \n",
    "    # Target nodes for new edges \n",
    "    targets=list(range(m)) \n",
    "    # List of existing nodes, with nodes repeated once for each adjacent edge \n",
    "    repeated_nodes=[] \n",
    "    # Start adding the other n-m nodes. The first node is m. \n",
    "    source=m \n",
    "    while source<n: \n",
    "        # Add edges to m nodes from the source. \n",
    "        G.add_edges_from(zip(*m,targets)) \n",
    "        # Add one node to the list for each new edge just created. \n",
    "        repeated_nodes.extend(targets) \n",
    "        # And the new node \"source\" has m edges to add to the list. \n",
    "        repeated_nodes.extend(*m) \n",
    "        # Now choose m unique nodes from the existing nodes \n",
    "        # Pick uniformly from repeated_nodes (preferential attachement) \n",
    "        targets = _random_subset(repeated_nodes,m) \n",
    "        source += 1\n",
    "    return G \n"
   ]
  },
  {
   "cell_type": "code",
   "execution_count": 81,
   "metadata": {},
   "outputs": [
    {
     "ename": "TypeError",
     "evalue": "'int' object is not iterable",
     "output_type": "error",
     "traceback": [
      "\u001b[1;31m---------------------------------------------------------------------------\u001b[0m",
      "\u001b[1;31mTypeError\u001b[0m                                 Traceback (most recent call last)",
      "\u001b[1;32m<ipython-input-81-dc9bfb23305f>\u001b[0m in \u001b[0;36m<module>\u001b[1;34m()\u001b[0m\n\u001b[1;32m----> 1\u001b[1;33m \u001b[0mbag\u001b[0m \u001b[1;33m=\u001b[0m \u001b[0mbarabasi_albert_graph\u001b[0m\u001b[1;33m(\u001b[0m\u001b[1;36m10\u001b[0m\u001b[1;33m,\u001b[0m \u001b[1;36m2\u001b[0m\u001b[1;33m,\u001b[0m \u001b[1;36m8708\u001b[0m\u001b[1;33m)\u001b[0m\u001b[1;33m\u001b[0m\u001b[0m\n\u001b[0m",
      "\u001b[1;32m<ipython-input-80-313053da8419>\u001b[0m in \u001b[0;36mbarabasi_albert_graph\u001b[1;34m(n, m, seed)\u001b[0m\n\u001b[0;32m     43\u001b[0m     \u001b[1;32mwhile\u001b[0m \u001b[0msource\u001b[0m\u001b[1;33m<\u001b[0m\u001b[0mn\u001b[0m\u001b[1;33m:\u001b[0m\u001b[1;33m\u001b[0m\u001b[0m\n\u001b[0;32m     44\u001b[0m         \u001b[1;31m# Add edges to m nodes from the source.\u001b[0m\u001b[1;33m\u001b[0m\u001b[1;33m\u001b[0m\u001b[0m\n\u001b[1;32m---> 45\u001b[1;33m         \u001b[0mG\u001b[0m\u001b[1;33m.\u001b[0m\u001b[0madd_edges_from\u001b[0m\u001b[1;33m(\u001b[0m\u001b[0mzip\u001b[0m\u001b[1;33m(\u001b[0m\u001b[1;33m*\u001b[0m\u001b[0mm\u001b[0m\u001b[1;33m,\u001b[0m\u001b[0mtargets\u001b[0m\u001b[1;33m)\u001b[0m\u001b[1;33m)\u001b[0m\u001b[1;33m\u001b[0m\u001b[0m\n\u001b[0m\u001b[0;32m     46\u001b[0m         \u001b[1;31m# Add one node to the list for each new edge just created.\u001b[0m\u001b[1;33m\u001b[0m\u001b[1;33m\u001b[0m\u001b[0m\n\u001b[0;32m     47\u001b[0m         \u001b[0mrepeated_nodes\u001b[0m\u001b[1;33m.\u001b[0m\u001b[0mextend\u001b[0m\u001b[1;33m(\u001b[0m\u001b[0mtargets\u001b[0m\u001b[1;33m)\u001b[0m\u001b[1;33m\u001b[0m\u001b[0m\n",
      "\u001b[1;31mTypeError\u001b[0m: 'int' object is not iterable"
     ]
    }
   ],
   "source": [
    "bag = barabasi_albert_graph(10, 2, 123)"
   ]
  },
  {
   "cell_type": "code",
   "execution_count": null,
   "metadata": {},
   "outputs": [],
   "source": []
  },
  {
   "cell_type": "markdown",
   "metadata": {},
   "source": [
    "### Question 4\n",
    "\n",
    "Use the function to create a random Barabási-Albert graph. Choose the parameters such that number of nodes is the same as in your graph, and the number of edges similar. You don't need to set the random seed. Comment on your choice of parameters."
   ]
  },
  {
   "cell_type": "code",
   "execution_count": 114,
   "metadata": {},
   "outputs": [
    {
     "data": {
      "image/png": "[encoded data removed]",
      "text/plain": [
       "<Figure size 432x288 with 1 Axes>"
      ]
     },
     "metadata": {
      "needs_background": "light"
     },
     "output_type": "display_data"
    }
   ],
   "source": [
    "# Your code here.\n",
    "n = n_nodes\n",
    "m0 = 2\n",
    "m = int((n_edges - m0)/(n-m0))\n",
    "ba_network = barabasi_albert(n_nodes, m, m0, 123)\n",
    "plt.spy(ba_network);"
   ]
  },
  {
   "cell_type": "code",
   "execution_count": 108,
   "metadata": {},
   "outputs": [
    {
     "data": {
      "text/plain": [
       "<matplotlib.lines.Line2D at 0x1f67b74a828>"
      ]
     },
     "execution_count": 108,
     "metadata": {},
     "output_type": "execute_result"
    },
    {
     "data": {
      "image/png": "[encoded data removed]",
      "text/plain": [
       "<Figure size 432x288 with 1 Axes>"
      ]
     },
     "metadata": {
      "needs_background": "light"
     },
     "output_type": "display_data"
    }
   ],
   "source": [
    "import networkx as nx\n",
    "ba = nx.barabasi_albert_graph(n, 2, 123)\n",
    "adj_ba = nx.adj_matrix(ba)\n",
    "plt.spy(adj_ba)"
   ]
  },
  {
   "cell_type": "markdown",
   "metadata": {},
   "source": [
    "**Your answer here**\n",
    "\n",
    "For the number of nodes, we simply chose the number of nodes in our network. For m0, we chose 2 and for the parameter m, we first calculated the exact number that we needed: the remaining number of edges that we have to put: n_edges - m0 (because each initial node (m0) has only one edge) divide by the remaining nodes that we have to add to the network: n-m0.\n",
    "\n",
    "\n",
    "Finally, the BA algorithm needs an integer for m, so we rounded down the exact m calculated, meaning that our new system is going to have less edges than our real network."
   ]
  },
  {
   "cell_type": "markdown",
   "metadata": {},
   "source": [
    "### Question 5\n",
    "\n",
    "Compare the number of edges in all three networks (your real network, the Erdős–Rényi network, and the Barabási-Albert netowk)."
   ]
  },
  {
   "cell_type": "code",
   "execution_count": 12,
   "metadata": {},
   "outputs": [
    {
     "name": "stdout",
     "output_type": "stream",
     "text": [
      "Number of edges in our real network: 3172 .\n",
      "Number of edges in the ER network: 3129 .\n",
      "Number of edges in the BA network: 2583 .\n"
     ]
    }
   ],
   "source": [
    "# Your code here.\n",
    "n_edges_ER = number_edges(er_network)            \n",
    "n_edges_BA = number_edges(ba_network)\n",
    "            \n",
    "print('Number of edges in our real network:', n_edges,'.\\n'\n",
    "            'Number of edges in the ER network:',int(n_edges_ER),'.\\n'\n",
    "                 'Number of edges in the BA network:', int(n_edges_BA), '.')"
   ]
  },
  {
   "cell_type": "markdown",
   "metadata": {},
   "source": [
    "### Question 6\n",
    "\n",
    "Implement a function that computes the [Kullback–Leibler (KL) divergence](https://en.wikipedia.org/wiki/Kullback%E2%80%93Leibler_divergence) between two probability distributions.\n",
    "We'll use it to compare the degree distributions of networks."
   ]
  },
  {
   "cell_type": "code",
   "execution_count": 13,
   "metadata": {},
   "outputs": [],
   "source": [
    "def kl_divergence(p, q):\n",
    "    \"\"\"Compute the KL divergence between probability distributions of degrees of two networks.\n",
    "    \n",
    "    Parameters\n",
    "    ----------\n",
    "    p: np.array\n",
    "        Probability distribution of degrees of the 1st graph.\n",
    "    q: np.array\n",
    "        Probability distribution of degrees of the 2nd graph.\n",
    "    \n",
    "    Returns\n",
    "    -------\n",
    "    kl\n",
    "        The KL divergence between the two distributions.\n",
    "    \"\"\"\n",
    "    \n",
    "    # Your code here.\n",
    "    length = len(p)\n",
    "    kl = 0\n",
    "    \n",
    "    for i in range(0,length):\n",
    "        if p[i] == 0 or q[i] == 0:\n",
    "            kl = kl + 0\n",
    "        else:\n",
    "            kl = kl + p[i] * np.log(p[i]/q[i])\n",
    "        \n",
    "    return kl"
   ]
  },
  {
   "cell_type": "markdown",
   "metadata": {},
   "source": [
    "##### **Question**\n",
    "What do they mean (on Moodle) by: if node not connected, KL undefined? where in the definition of KL, do they talk about Q(0) = 0?\n",
    "Also, what if Q(i) = 0? In the wikipedia, it's not defined, but it's totally possible to have a 0 probability for a certain degree in one of the two networks we are trying to compare?!"
   ]
  },
  {
   "cell_type": "code",
   "execution_count": 14,
   "metadata": {},
   "outputs": [
    {
     "data": {
      "text/plain": [
       "0.09151622184943575"
      ]
     },
     "execution_count": 14,
     "metadata": {},
     "output_type": "execute_result"
    }
   ],
   "source": [
    "p_test = np.array([0.2, 0.2, 0.2, 0.4])\n",
    "q_test = np.array([0.3, 0.3, 0.1, 0.3])\n",
    "kl_divergence(p_test, q_test)"
   ]
  },
  {
   "cell_type": "markdown",
   "metadata": {},
   "source": [
    "### Question 7\n",
    "\n",
    "Compare the degree distribution of your network to each of the two synthetic ones, in terms of KL divergence. **Hint:** Make sure you normalise your degree distributions to make them valid probability distributions."
   ]
  },
  {
   "cell_type": "code",
   "execution_count": 88,
   "metadata": {},
   "outputs": [
    {
     "name": "stdout",
     "output_type": "stream",
     "text": [
      "KL divergence between our network and the ER synthetic newtork: 1.8257048379677288 .\n",
      "KL divergence between our network and the BA synthetic newtork: 0.0167740835194351 .\n"
     ]
    }
   ],
   "source": [
    "# Your code here.\n",
    "degree_network = adjacency.sum(axis=0)\n",
    "w_network = np.ones_like(degree_network) / float(n_nodes)\n",
    "\n",
    "degree_ER = er_network.sum(axis=0)\n",
    "w_ER = np.ones_like(degree_ER) / float(n_nodes)\n",
    "\n",
    "degree_BA = ba_network.sum(axis=0)\n",
    "w_BA = np.ones_like(degree_BA) / float(n_nodes)\n",
    "\n",
    "BINS = 0\n",
    "if np.amax(degree_network) > BINS:\n",
    "    BINS = np.amax(degree_network)\n",
    "if np.amax(degree_BA) > BINS:\n",
    "    BINS = np.amax(degree_BA)\n",
    "if np.amax(degree_ER) > BINS:\n",
    "    BINS = np.amax(degree_ER)\n",
    "\n",
    "division = 1;\n",
    "spacing_bins = np.linspace(0,(BINS+division),int((BINS+division)/division)+1);\n",
    "hist = np.histogram(degree_network, bins = spacing_bins, weights = w_network)[0]\n",
    "hist_ER = np.histogram(degree_ER, bins = spacing_bins, weights = w_ER)[0]\n",
    "hist_BA = np.histogram(degree_BA, bins = spacing_bins, weights = w_BA)[0]\n",
    "\n",
    "print('KL divergence between our network and the ER synthetic newtork:',kl_divergence(hist,hist_ER),'.\\n'\n",
    "        'KL divergence between our network and the BA synthetic newtork:',kl_divergence(hist,hist_BA), '.')"
   ]
  },
  {
   "cell_type": "markdown",
   "metadata": {},
   "source": [
    "##### **Remark**\n",
    "\n",
    "Concerning the **bins** option of the function *np.histogram*, we decided to take the highest degree (parameter ***BINS***) of all the networks we have and create an equally space vector that would regroup the degree that are close together, but not similar. After several attemps, we decided to regroup degree by 2 (meaning degree 0 and 1 are together, 2 and 3 as well, etc...).\n"
   ]
  },
  {
   "cell_type": "markdown",
   "metadata": {},
   "source": [
    "### Question 8\n",
    "\n",
    "Plot the degree distribution historgrams for all three networks. Are they consistent with the KL divergence results? Explain."
   ]
  },
  {
   "cell_type": "code",
   "execution_count": 92,
   "metadata": {},
   "outputs": [
    {
     "data": {
      "image/png": "[encoded data removed]",
      "text/plain": [
       "<Figure size 432x288 with 1 Axes>"
      ]
     },
     "metadata": {},
     "output_type": "display_data"
    }
   ],
   "source": [
    "# Your code here.\n",
    "degree_network = adjacency.sum(axis=0)\n",
    "w_network = np.ones_like(degree_network) / float(n_nodes)\n",
    "\n",
    "degree_ER = er_network.sum(axis=0)\n",
    "w_ER = np.ones_like(degree_ER) / float(n_nodes)\n",
    "\n",
    "degree_BA = ba_network.sum(axis=0)\n",
    "w_BA = np.ones_like(degree_BA) / float(n_nodes)\n",
    " \n",
    "spacing_bins = np.linspace(0,(BINS+1),int((BINS+1)/division)+1);\n",
    "plt.hist(degree_network, bins = spacing_bins, weights = w_network, fc = (1,0,0,0.7));\n",
    "d = plt.hist(degree_BA, bins = spacing_bins, weights = w_BA, fc = (0,1,0,0.6));\n",
    "plt.hist(degree_ER, bins = spacing_bins, weights = w_ER, fc = (0,0,1,0.5));\n",
    "plt.legend(['Real network', 'BA synthetic network', 'ER synthetic network']);"
   ]
  },
  {
   "cell_type": "code",
   "execution_count": 90,
   "metadata": {},
   "outputs": [
    {
     "data": {
      "text/plain": [
       "(array([0.        , 0.        , 0.48491879, 0.2095901 , 0.10054138,\n",
       "        0.05645785, 0.04176334, 0.03480278, 0.00773395, 0.00850735,\n",
       "        0.00928074, 0.00928074, 0.00696056, 0.00309358, 0.00154679,\n",
       "        0.00154679, 0.00309358, 0.00309358, 0.0007734 , 0.0007734 ,\n",
       "        0.00309358, 0.00309358, 0.        , 0.00154679, 0.0007734 ,\n",
       "        0.0007734 , 0.0007734 , 0.0007734 , 0.        , 0.        ,\n",
       "        0.        , 0.        , 0.        , 0.0007734 , 0.        ,\n",
       "        0.        , 0.        , 0.        , 0.        , 0.        ,\n",
       "        0.        , 0.        , 0.        , 0.        , 0.        ,\n",
       "        0.        , 0.0007734 , 0.        , 0.        , 0.        ,\n",
       "        0.        , 0.        , 0.        , 0.        , 0.        ,\n",
       "        0.        , 0.        , 0.        , 0.        , 0.        ,\n",
       "        0.00154679, 0.        , 0.        , 0.        , 0.        ,\n",
       "        0.        , 0.0007734 , 0.        , 0.        , 0.        ,\n",
       "        0.        , 0.        , 0.        , 0.        , 0.        ,\n",
       "        0.        , 0.        , 0.        , 0.        , 0.        ,\n",
       "        0.        , 0.0007734 , 0.        , 0.        , 0.        ,\n",
       "        0.        , 0.        , 0.        , 0.        , 0.        ,\n",
       "        0.        , 0.        , 0.        , 0.        , 0.        ,\n",
       "        0.        , 0.        , 0.        , 0.        , 0.0007734 ]),\n",
       " array([  0.,   1.,   2.,   3.,   4.,   5.,   6.,   7.,   8.,   9.,  10.,\n",
       "         11.,  12.,  13.,  14.,  15.,  16.,  17.,  18.,  19.,  20.,  21.,\n",
       "         22.,  23.,  24.,  25.,  26.,  27.,  28.,  29.,  30.,  31.,  32.,\n",
       "         33.,  34.,  35.,  36.,  37.,  38.,  39.,  40.,  41.,  42.,  43.,\n",
       "         44.,  45.,  46.,  47.,  48.,  49.,  50.,  51.,  52.,  53.,  54.,\n",
       "         55.,  56.,  57.,  58.,  59.,  60.,  61.,  62.,  63.,  64.,  65.,\n",
       "         66.,  67.,  68.,  69.,  70.,  71.,  72.,  73.,  74.,  75.,  76.,\n",
       "         77.,  78.,  79.,  80.,  81.,  82.,  83.,  84.,  85.,  86.,  87.,\n",
       "         88.,  89.,  90.,  91.,  92.,  93.,  94.,  95.,  96.,  97.,  98.,\n",
       "         99., 100.]),\n",
       " <a list of 100 Patch objects>)"
      ]
     },
     "execution_count": 90,
     "metadata": {},
     "output_type": "execute_result"
    }
   ],
   "source": [
    "d #degree disappear on the histogram?!"
   ]
  },
  {
   "cell_type": "markdown",
   "metadata": {},
   "source": [
    "**Your answer here.**\n",
    "\n",
    "-> répondre après précisions de l'assistante au niveau du KL divergence"
   ]
  },
  {
   "cell_type": "markdown",
   "metadata": {},
   "source": [
    "### Question 9\n",
    "\n",
    "Imagine you got equal degree distributions. Would that guarantee you got the same graph? Explain."
   ]
  },
  {
   "cell_type": "markdown",
   "metadata": {},
   "source": [
    "**Your answer here.**\n",
    "\n",
    "If you have the same degree distribution and that your regroup your degree the same way for your histogram, meaning you give to the function *plt.hist* the same **bins** vector, you will end up with the same graph. "
   ]
  },
  {
   "cell_type": "markdown",
   "metadata": {},
   "source": [
    "## Part 2\n",
    "\n",
    "**You are allowed to use any additional library here (e.g., NetworkX, PyGSP, etc.).** Be careful not to include something here and use it in part 1!"
   ]
  },
  {
   "cell_type": "markdown",
   "metadata": {},
   "source": [
    "### Question 10\n",
    "\n",
    "Choose a random network model that fits you network well. Explain your choice. \n",
    "\n",
    "**Hint:** Check lecture notes for different network models and their properties. Your choice should be made based on at least one property you'd expect to be similar."
   ]
  },
  {
   "cell_type": "markdown",
   "metadata": {},
   "source": [
    "**Your answer here.**\n",
    "\n",
    "Characteristics of our network:\n",
    "* Average degree small compared to the number of nodes (4.906 << 1293)\n",
    "    * Degree distribution approximated by Poisson distribution\n",
    "* Small number of highly connected nodes\n",
    "    * No real cluster"
   ]
  },
  {
   "cell_type": "code",
   "execution_count": null,
   "metadata": {},
   "outputs": [],
   "source": [
    "k_mean = np.mean(adjacency.sum(axis=0))\n",
    "k_mean, np.log(n_nodes)"
   ]
  },
  {
   "cell_type": "markdown",
   "metadata": {},
   "source": [
    "### Question 11\n",
    "\n",
    "Explain (in short) how the chosen model works."
   ]
  },
  {
   "cell_type": "markdown",
   "metadata": {},
   "source": [
    "**Your answer here.**"
   ]
  },
  {
   "cell_type": "markdown",
   "metadata": {},
   "source": [
    "### Question 12\n",
    "\n",
    "Create a random graph from that model, such that the number of nodes is the same as in your graph."
   ]
  },
  {
   "cell_type": "code",
   "execution_count": null,
   "metadata": {},
   "outputs": [],
   "source": [
    "# Your code here."
   ]
  },
  {
   "cell_type": "markdown",
   "metadata": {},
   "source": [
    "### Question 13\n",
    "\n",
    "Check the properties you expected to be similar, and compare to your network."
   ]
  },
  {
   "cell_type": "code",
   "execution_count": null,
   "metadata": {},
   "outputs": [],
   "source": [
    "# Your code here."
   ]
  },
  {
   "cell_type": "markdown",
   "metadata": {},
   "source": [
    "Are the results what you expected? Explain."
   ]
  },
  {
   "cell_type": "markdown",
   "metadata": {},
   "source": [
    "**Your answer here.**"
   ]
  }
 ],
 "metadata": {
  "kernelspec": {
   "display_name": "Python 3",
   "language": "python",
   "name": "python3"
  },
  "language_info": {
   "codemirror_mode": {
    "name": "ipython",
    "version": 3
   },
   "file_extension": ".py",
   "mimetype": "text/x-python",
   "name": "python",
   "nbconvert_exporter": "python",
   "pygments_lexer": "ipython3",
   "version": "3.5.6"
  }
 },
 "nbformat": 4,
 "nbformat_minor": 2
}
